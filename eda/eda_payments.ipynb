{
 "cells": [
  {
   "cell_type": "markdown",
   "id": "97b02a15",
   "metadata": {},
   "source": [
    "# 💳 EDA Pembayaran – Shopee Analytics\n",
    "\n",
    "Analisis metode pembayaran dan status transaksi pengguna Shopee."
   ]
  },
  {
   "cell_type": "code",
   "execution_count": 2,
   "id": "13383a8c",
   "metadata": {},
   "outputs": [
    {
     "data": {
      "application/vnd.microsoft.datawrangler.viewer.v0+json": {
       "columns": [
        {
         "name": "index",
         "rawType": "int64",
         "type": "integer"
        },
        {
         "name": "order_id",
         "rawType": "object",
         "type": "string"
        },
        {
         "name": "payment_method",
         "rawType": "object",
         "type": "string"
        },
        {
         "name": "payment_amount",
         "rawType": "int64",
         "type": "integer"
        },
        {
         "name": "payment_status",
         "rawType": "object",
         "type": "string"
        }
       ],
       "ref": "44a5f827-0280-44df-b601-f724e6702fd0",
       "rows": [
        [
         "0",
         "O000001",
         "Transfer Bank",
         "20280483",
         "success"
        ],
        [
         "1",
         "O000002",
         "Transfer Bank",
         "1119924",
         "success"
        ],
        [
         "2",
         "O000003",
         "Transfer Bank",
         "3276376",
         "success"
        ],
        [
         "3",
         "O000004",
         "Transfer Bank",
         "9274030",
         "success"
        ],
        [
         "4",
         "O000005",
         "COD",
         "14241380",
         "failed"
        ]
       ],
       "shape": {
        "columns": 4,
        "rows": 5
       }
      },
      "text/html": [
       "<div>\n",
       "<style scoped>\n",
       "    .dataframe tbody tr th:only-of-type {\n",
       "        vertical-align: middle;\n",
       "    }\n",
       "\n",
       "    .dataframe tbody tr th {\n",
       "        vertical-align: top;\n",
       "    }\n",
       "\n",
       "    .dataframe thead th {\n",
       "        text-align: right;\n",
       "    }\n",
       "</style>\n",
       "<table border=\"1\" class=\"dataframe\">\n",
       "  <thead>\n",
       "    <tr style=\"text-align: right;\">\n",
       "      <th></th>\n",
       "      <th>order_id</th>\n",
       "      <th>payment_method</th>\n",
       "      <th>payment_amount</th>\n",
       "      <th>payment_status</th>\n",
       "    </tr>\n",
       "  </thead>\n",
       "  <tbody>\n",
       "    <tr>\n",
       "      <th>0</th>\n",
       "      <td>O000001</td>\n",
       "      <td>Transfer Bank</td>\n",
       "      <td>20280483</td>\n",
       "      <td>success</td>\n",
       "    </tr>\n",
       "    <tr>\n",
       "      <th>1</th>\n",
       "      <td>O000002</td>\n",
       "      <td>Transfer Bank</td>\n",
       "      <td>1119924</td>\n",
       "      <td>success</td>\n",
       "    </tr>\n",
       "    <tr>\n",
       "      <th>2</th>\n",
       "      <td>O000003</td>\n",
       "      <td>Transfer Bank</td>\n",
       "      <td>3276376</td>\n",
       "      <td>success</td>\n",
       "    </tr>\n",
       "    <tr>\n",
       "      <th>3</th>\n",
       "      <td>O000004</td>\n",
       "      <td>Transfer Bank</td>\n",
       "      <td>9274030</td>\n",
       "      <td>success</td>\n",
       "    </tr>\n",
       "    <tr>\n",
       "      <th>4</th>\n",
       "      <td>O000005</td>\n",
       "      <td>COD</td>\n",
       "      <td>14241380</td>\n",
       "      <td>failed</td>\n",
       "    </tr>\n",
       "  </tbody>\n",
       "</table>\n",
       "</div>"
      ],
      "text/plain": [
       "  order_id payment_method  payment_amount payment_status\n",
       "0  O000001  Transfer Bank        20280483        success\n",
       "1  O000002  Transfer Bank         1119924        success\n",
       "2  O000003  Transfer Bank         3276376        success\n",
       "3  O000004  Transfer Bank         9274030        success\n",
       "4  O000005            COD        14241380         failed"
      ]
     },
     "execution_count": 2,
     "metadata": {},
     "output_type": "execute_result"
    }
   ],
   "source": [
    "import pandas as pd\n",
    "import seaborn as sns\n",
    "import matplotlib.pyplot as plt\n",
    "import sys\n",
    "import os\n",
    "sys.path.append(os.path.abspath(\"..\"))\n",
    "from utils.plot_helper import save_plot\n",
    "\n",
    "df_payments = pd.read_csv(\"../data/raw/payments.csv\")\n",
    "df_payments.head()"
   ]
  },
  {
   "cell_type": "markdown",
   "id": "5157948a",
   "metadata": {},
   "source": [
    "## 💼 Distribusi Metode Pembayaran\n",
    "\n",
    "Berikut distribusi pengguna terhadap metode pembayaran seperti ShopeePay, COD, Transfer Bank, dll."
   ]
  },
  {
   "cell_type": "code",
   "execution_count": 4,
   "id": "d1d2d9b2",
   "metadata": {},
   "outputs": [
    {
     "name": "stdout",
     "output_type": "stream",
     "text": [
      "📁 Chart saved to outputs/charts/payment_method_distribution.png\n"
     ]
    },
    {
     "data": {
      "image/png": "[encoded data removed]",
      "text/plain": [
       "<Figure size 700x400 with 1 Axes>"
      ]
     },
     "metadata": {},
     "output_type": "display_data"
    }
   ],
   "source": [
    "plt.figure(figsize=(7, 4))\n",
    "ax = sns.countplot(data=df_payments, x='payment_method',hue='payment_method', palette='cool')\n",
    "\n",
    "for p in ax.patches:\n",
    "    ax.annotate(f'{p.get_height()}', (p.get_x() + p.get_width() / 2, p.get_height() + 50),\n",
    "                ha='center', fontsize=9)\n",
    "\n",
    "plt.title(\"Distribusi Metode Pembayaran\")\n",
    "plt.xlabel(\"Metode Pembayaran\")\n",
    "plt.ylabel(\"Jumlah Transaksi\")\n",
    "plt.tight_layout()\n",
    "\n",
    "save_plot(plt.gcf(), \"payment_method_distribution.png\")\n",
    "plt.show()"
   ]
  },
  {
   "cell_type": "markdown",
   "id": "212548c3",
   "metadata": {},
   "source": [
    "## ✅ Status Pembayaran\n",
    "\n",
    "Melihat proporsi pembayaran yang berhasil dan gagal."
   ]
  },
  {
   "cell_type": "code",
   "execution_count": 6,
   "id": "71cd8c9e",
   "metadata": {},
   "outputs": [
    {
     "name": "stdout",
     "output_type": "stream",
     "text": [
      "📁 Chart saved to outputs/charts/payment_status_distribution.png\n"
     ]
    },
    {
     "data": {
      "image/png": "[encoded data removed]",
      "text/plain": [
       "<Figure size 500x400 with 1 Axes>"
      ]
     },
     "metadata": {},
     "output_type": "display_data"
    }
   ],
   "source": [
    "plt.figure(figsize=(5, 4))\n",
    "ax = sns.countplot(data=df_payments, x='payment_status',hue='payment_status', palette='Set2')\n",
    "\n",
    "for p in ax.patches:\n",
    "    ax.annotate(f'{p.get_height()}', (p.get_x() + p.get_width() / 2, p.get_height() + 50),\n",
    "                ha='center', fontsize=9)\n",
    "\n",
    "plt.title(\"Status Pembayaran\")\n",
    "plt.xlabel(\"Status\")\n",
    "plt.ylabel(\"Jumlah\")\n",
    "plt.tight_layout()\n",
    "\n",
    "save_plot(plt.gcf(), \"payment_status_distribution.png\")\n",
    "plt.show()"
   ]
  },
  {
   "cell_type": "markdown",
   "id": "a6286ee2",
   "metadata": {},
   "source": [
    "## 📝 Insight Pembayaran\n",
    "\n",
    "- ShopeePay dan COD mendominasi sebagai metode pembayaran.\n",
    "- Sebagian besar transaksi memiliki status \"success\".\n",
    "- Gagal bayar biasanya berasal dari pesanan yang dibatalkan atau dikembalikan.\n",
    "\n",
    "EDA selanjutnya: `eda_orders.ipynb` untuk status dan tren pesanan."
   ]
  }
 ],
 "metadata": {
  "kernelspec": {
   "display_name": ".venv",
   "language": "python",
   "name": "python3"
  },
  "language_info": {
   "codemirror_mode": {
    "name": "ipython",
    "version": 3
   },
   "file_extension": ".py",
   "mimetype": "text/x-python",
   "name": "python",
   "nbconvert_exporter": "python",
   "pygments_lexer": "ipython3",
   "version": "3.12.0"
  }
 },
 "nbformat": 4,
 "nbformat_minor": 5
}
